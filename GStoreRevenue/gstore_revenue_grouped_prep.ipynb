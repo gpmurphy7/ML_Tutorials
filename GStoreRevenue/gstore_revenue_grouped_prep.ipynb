{
 "cells": [
  {
   "cell_type": "code",
   "execution_count": 198,
   "metadata": {},
   "outputs": [],
   "source": [
    "import warnings\n",
    "warnings.filterwarnings('ignore')"
   ]
  },
  {
   "cell_type": "code",
   "execution_count": 199,
   "metadata": {},
   "outputs": [],
   "source": [
    "import numpy as np\n",
    "import pandas as pd\n",
    "import feather\n",
    "import pickle"
   ]
  },
  {
   "cell_type": "code",
   "execution_count": 200,
   "metadata": {},
   "outputs": [],
   "source": [
    "pd.options.display.max_columns = 200\n",
    "pd.options.display.max_rows = 60"
   ]
  },
  {
   "cell_type": "code",
   "execution_count": 201,
   "metadata": {},
   "outputs": [],
   "source": [
    "clean_train_df = feather.read_dataframe('data/clean_train_v2.feather')"
   ]
  },
  {
   "cell_type": "code",
   "execution_count": 202,
   "metadata": {},
   "outputs": [],
   "source": [
    "clean_test_df = feather.read_dataframe('data/clean_test_v2.feather')"
   ]
  },
  {
   "cell_type": "code",
   "execution_count": 203,
   "metadata": {},
   "outputs": [],
   "source": [
    "#im_df = clean_train_df.loc[(clean_train_df['fullVisitorId'] == '8934116514970143966')| (clean_train_df['fullVisitorId'] =='9075655783635761930')]"
   ]
  },
  {
   "cell_type": "code",
   "execution_count": 204,
   "metadata": {},
   "outputs": [],
   "source": [
    "date_train = clean_train_df.groupby('fullVisitorId', as_index = False)[['date', 'visitStartTime', 'visitNumber']].agg(['max', 'min'])\n",
    "date_train = date_train.reset_index()\n",
    "date_train.columns = ['fullVisitorId','date_max', 'date_min', 'visitStartTime_max', 'visitStartTime_min', 'visitNumber_max', 'visitNumber_min']\n",
    "date_train['interval_dates'] = (date_train['date_max'] - date_train['date_min']).dt.days"
   ]
  },
  {
   "cell_type": "code",
   "execution_count": 205,
   "metadata": {},
   "outputs": [],
   "source": [
    "train_cats = clean_train_df[['fullVisitorId','visitStartTime','channelGrouping', 'device.browser','device.operatingSystem'\n",
    "                                                  ,'device.isMobile', 'device.deviceCategory' ,'geoNetwork.continent','geoNetwork.subContinent'\n",
    "                                                  , 'geoNetwork.country' ,'geoNetwork.region', 'geoNetwork.metro' ,'geoNetwork.city'\n",
    "                                                  ,'geoNetwork.networkDomain', 'trafficSource.source',  'trafficSource.medium', 'trafficSource.isTrueDirect'\n",
    "                                                  ,'trafficSource.adwordsClickInfo.isVideoAd']]"
   ]
  },
  {
   "cell_type": "code",
   "execution_count": 206,
   "metadata": {},
   "outputs": [],
   "source": [
    "train_num = clean_train_df.groupby('fullVisitorId', as_index = False)[['totals.hits', 'totals.pageviews', 'totals.sessionQualityDim', 'totals.timeOnSite']].agg(['sum', 'mean', 'min', 'max', 'std'])\n",
    "train_num.columns = [\"_\".join(x) for x in train_num.columns.ravel()]\n",
    "train_num = train_num.reset_index()\n",
    "train_num.fillna(0.0, inplace = True)"
   ]
  },
  {
   "cell_type": "code",
   "execution_count": 207,
   "metadata": {},
   "outputs": [],
   "source": [
    "train_trans = clean_train_df.groupby('fullVisitorId', as_index = False)[['totals.transactions', 'totals.transactionRevenue']].sum()"
   ]
  },
  {
   "cell_type": "code",
   "execution_count": 208,
   "metadata": {},
   "outputs": [],
   "source": [
    "#train_cats.drop(columns = 'fullVisitorId')"
   ]
  },
  {
   "cell_type": "code",
   "execution_count": 209,
   "metadata": {},
   "outputs": [],
   "source": [
    "grp_train_im = pd.concat([date_train,  train_num.drop(columns = 'fullVisitorId'), train_trans.drop(columns = 'fullVisitorId')], axis=1)"
   ]
  },
  {
   "cell_type": "code",
   "execution_count": 210,
   "metadata": {},
   "outputs": [],
   "source": [
    "grp_train = grp_train_im.merge(train_cats, how = 'inner',left_on = ['fullVisitorId', 'visitStartTime_max'], right_on = ['fullVisitorId', 'visitStartTime'])"
   ]
  },
  {
   "cell_type": "code",
   "execution_count": 211,
   "metadata": {},
   "outputs": [
    {
     "data": {
      "text/plain": [
       "True"
      ]
     },
     "execution_count": 211,
     "metadata": {},
     "output_type": "execute_result"
    }
   ],
   "source": [
    "len(grp_train) == len(clean_train_df['fullVisitorId'].unique())"
   ]
  },
  {
   "cell_type": "code",
   "execution_count": 212,
   "metadata": {},
   "outputs": [],
   "source": [
    "date_test = clean_test_df.groupby('fullVisitorId', as_index = False)[['date', 'visitStartTime', 'visitNumber']].agg(['max', 'min'])\n",
    "date_test = date_test.reset_index()\n",
    "date_test.columns = ['fullVisitorId','date_max', 'date_min', 'visitStartTime_max', 'visitStartTime_min', 'visitNumber_max', 'visitNumber_min']\n",
    "date_test['interval_dates'] = (date_test['date_max'] - date_test['date_min']).dt.days\n",
    "\n",
    "test_cats = clean_test_df[['fullVisitorId','visitStartTime','channelGrouping', 'device.browser','device.operatingSystem'\n",
    "                                                  ,'device.isMobile', 'device.deviceCategory' ,'geoNetwork.continent','geoNetwork.subContinent'\n",
    "                                                  , 'geoNetwork.country' ,'geoNetwork.region', 'geoNetwork.metro' ,'geoNetwork.city'\n",
    "                                                  ,'geoNetwork.networkDomain', 'trafficSource.source',  'trafficSource.medium', 'trafficSource.isTrueDirect'\n",
    "                                                  ,'trafficSource.adwordsClickInfo.isVideoAd']]\n",
    "                                                  \n",
    "test_num = clean_test_df.groupby('fullVisitorId', as_index = False)[['totals.hits', 'totals.pageviews', 'totals.sessionQualityDim', 'totals.timeOnSite']].agg(['sum', 'mean', 'min', 'max', 'std'])\n",
    "test_num.columns = [\"_\".join(x) for x in test_num.columns.ravel()]\n",
    "test_num = test_num.reset_index()\n",
    "test_num.fillna(0.0, inplace = True)\n",
    "\n",
    "test_trans = clean_test_df.groupby('fullVisitorId', as_index = False)[['totals.transactions', 'totals.transactionRevenue']].sum()\n",
    "\n",
    "grp_test_im = pd.concat([date_test,  test_num.drop(columns = 'fullVisitorId'), test_trans.drop(columns = 'fullVisitorId')], axis=1)\n",
    "grp_test = grp_test_im.merge(test_cats, how = 'inner',left_on = ['fullVisitorId', 'visitStartTime_max'], right_on = ['fullVisitorId', 'visitStartTime'])"
   ]
  },
  {
   "cell_type": "code",
   "execution_count": 213,
   "metadata": {},
   "outputs": [
    {
     "data": {
      "text/plain": [
       "True"
      ]
     },
     "execution_count": 213,
     "metadata": {},
     "output_type": "execute_result"
    }
   ],
   "source": [
    "len(grp_test) == len(clean_test_df['fullVisitorId'].unique())"
   ]
  },
  {
   "cell_type": "code",
   "execution_count": 214,
   "metadata": {},
   "outputs": [],
   "source": [
    "feather.write_dataframe(grp_train, 'data/grp_train.feather')\n",
    "feather.write_dataframe(grp_test, 'data/grp_test.feather')"
   ]
  },
  {
   "cell_type": "code",
   "execution_count": 215,
   "metadata": {},
   "outputs": [
    {
     "name": "stdout",
     "output_type": "stream",
     "text": [
      "fullVisitorId 1323730\n",
      "channelGrouping 8\n",
      "device.browser 129\n",
      "device.operatingSystem 24\n",
      "device.deviceCategory 3\n",
      "geoNetwork.continent 6\n",
      "geoNetwork.subContinent 23\n",
      "geoNetwork.country 228\n",
      "geoNetwork.region 483\n",
      "geoNetwork.metro 123\n",
      "geoNetwork.city 956\n",
      "geoNetwork.networkDomain 41157\n",
      "trafficSource.source 334\n",
      "trafficSource.medium 7\n"
     ]
    }
   ],
   "source": [
    "for column in grp_train.select_dtypes(include = 'object').columns.tolist():\n",
    "    print(column + ' ' + str(grp_train[column].nunique()))"
   ]
  },
  {
   "cell_type": "code",
   "execution_count": 216,
   "metadata": {},
   "outputs": [],
   "source": [
    "country_not_top10 = grp_train.groupby('geoNetwork.country').count().sort_values('date_min', ascending = False).index[10:]"
   ]
  },
  {
   "cell_type": "code",
   "execution_count": 217,
   "metadata": {},
   "outputs": [],
   "source": [
    "device_not_top10 = grp_train.groupby('device.browser').count().sort_values('date_min', ascending = False).index[10:]\n",
    "grp_train['device.browser'].replace(device_not_top10, 'Other', inplace = True)"
   ]
  },
  {
   "cell_type": "code",
   "execution_count": 218,
   "metadata": {},
   "outputs": [],
   "source": [
    "os_not_top10 = grp_train.groupby('device.operatingSystem').count().sort_values('date_min', ascending = False).index[10:]\n",
    "grp_train['device.operatingSystem'].replace(os_not_top10, 'Other', inplace = True)"
   ]
  },
  {
   "cell_type": "code",
   "execution_count": 249,
   "metadata": {},
   "outputs": [],
   "source": [
    "encode_grp_train = pd.concat([grp_train, \\\n",
    "                             pd.get_dummies(grp_train[['channelGrouping', 'device.browser', 'device.operatingSystem'\n",
    "                                                            , 'geoNetwork.country','geoNetwork.subContinent', 'trafficSource.medium']])]\\\n",
    "                             , axis = 1)"
   ]
  },
  {
   "cell_type": "code",
   "execution_count": 250,
   "metadata": {},
   "outputs": [],
   "source": [
    "cat_cols_to_drop = [column for column in grp_train.select_dtypes(include = 'object').columns.tolist() if column != 'fullVisitorId'] "
   ]
  },
  {
   "cell_type": "code",
   "execution_count": 251,
   "metadata": {},
   "outputs": [],
   "source": [
    "encode_grp_train.drop(cat_cols_to_drop, axis = 1, inplace = True)"
   ]
  },
  {
   "cell_type": "code",
   "execution_count": 252,
   "metadata": {},
   "outputs": [],
   "source": [
    "device_train_values = [value for value in grp_train['device.browser'].unique() if value != 'Other']\n",
    "grp_test['device.browser'] = np.where(grp_test['device.browser'].isin(device_train_values), grp_test['device.browser'], 'Other')"
   ]
  },
  {
   "cell_type": "code",
   "execution_count": 253,
   "metadata": {},
   "outputs": [],
   "source": [
    "os_train_values = [value for value in grp_train['device.operatingSystem'].unique() if value != 'Other']\n",
    "grp_test['device.operatingSystem'] = np.where(grp_test['device.operatingSystem'].isin(os_train_values), grp_test['device.operatingSystem'], 'Other')"
   ]
  },
  {
   "cell_type": "code",
   "execution_count": 254,
   "metadata": {},
   "outputs": [],
   "source": [
    "encode_grp_test = pd.concat([grp_test, \\\n",
    "                             pd.get_dummies(grp_test[['channelGrouping', 'device.browser', 'device.operatingSystem'\n",
    "                                                            , 'geoNetwork.country','geoNetwork.subContinent', 'trafficSource.medium']])]\\\n",
    "                             , axis = 1)"
   ]
  },
  {
   "cell_type": "code",
   "execution_count": 256,
   "metadata": {},
   "outputs": [
    {
     "data": {
      "text/plain": [
       "['channelGrouping',\n",
       " 'device.browser',\n",
       " 'device.operatingSystem',\n",
       " 'device.deviceCategory',\n",
       " 'geoNetwork.continent',\n",
       " 'geoNetwork.subContinent',\n",
       " 'geoNetwork.country',\n",
       " 'geoNetwork.region',\n",
       " 'geoNetwork.metro',\n",
       " 'geoNetwork.city',\n",
       " 'geoNetwork.networkDomain',\n",
       " 'trafficSource.source',\n",
       " 'trafficSource.medium',\n",
       " 'geoNetwork.country_Palau']"
      ]
     },
     "execution_count": 256,
     "metadata": {},
     "output_type": "execute_result"
    }
   ],
   "source": [
    "[column for column in encode_grp_test.columns if column not in encode_grp_train.columns]"
   ]
  },
  {
   "cell_type": "code",
   "execution_count": 257,
   "metadata": {},
   "outputs": [],
   "source": [
    "encode_grp_test.drop(list(set(encode_grp_test.columns.tolist()).intersection(cat_cols_to_drop)), axis = 1, inplace = True)"
   ]
  },
  {
   "cell_type": "code",
   "execution_count": 258,
   "metadata": {},
   "outputs": [],
   "source": [
    "encode_grp_test.drop([column for column in encode_grp_test.columns if column not in encode_grp_train.columns], axis = 1, inplace = True)"
   ]
  },
  {
   "cell_type": "code",
   "execution_count": 267,
   "metadata": {},
   "outputs": [],
   "source": [
    "encode_grp_train.drop([column for column in encode_grp_train.columns if column not in encode_grp_test.columns], axis = 1, inplace = True)"
   ]
  },
  {
   "cell_type": "code",
   "execution_count": 259,
   "metadata": {},
   "outputs": [
    {
     "data": {
      "text/plain": [
       "[]"
      ]
     },
     "execution_count": 259,
     "metadata": {},
     "output_type": "execute_result"
    }
   ],
   "source": [
    "encode_grp_train.columns[encode_grp_train.isna().any()].tolist()"
   ]
  },
  {
   "cell_type": "code",
   "execution_count": 239,
   "metadata": {},
   "outputs": [
    {
     "data": {
      "text/plain": [
       "[]"
      ]
     },
     "execution_count": 239,
     "metadata": {},
     "output_type": "execute_result"
    }
   ],
   "source": [
    "encode_grp_test.columns[encode_grp_test.isna().any()].tolist()"
   ]
  },
  {
   "cell_type": "code",
   "execution_count": 268,
   "metadata": {},
   "outputs": [],
   "source": [
    "def date_processing(df):\n",
    "    df[\"date_min\"] = pd.to_datetime(df[\"date_min\"], format = '%Y%m%d')\n",
    "    df[\"min_weekday\"] = df['date_min'].dt.weekday\n",
    "    df[\"min_day\"] = df['date_min'].dt.day \n",
    "    df[\"min_month\"] = df['date_min'].dt.month\n",
    "    df[\"min_year\"] = df['date_min'].dt.year\n",
    "    df[\"min_visitHour\"] = pd.to_datetime(df[\"visitStartTime_min\"], unit = \"s\").dt.hour\n",
    "    \n",
    "    df[\"date_max\"] = pd.to_datetime(df[\"date_max\"], format = '%Y%m%d')\n",
    "    df[\"max_weekday\"] = df['date_max'].dt.weekday\n",
    "    df[\"max_day\"] = df['date_max'].dt.day \n",
    "    df[\"max_month\"] = df['date_max'].dt.month\n",
    "    df[\"max_year\"] = df['date_max'].dt.year\n",
    "    df[\"max_visitHour\"] = pd.to_datetime(df[\"visitStartTime_max\"], unit = \"s\").dt.hour\n",
    "    return df"
   ]
  },
  {
   "cell_type": "code",
   "execution_count": 269,
   "metadata": {},
   "outputs": [],
   "source": [
    "encode_grp_train = date_processing(encode_grp_train)"
   ]
  },
  {
   "cell_type": "code",
   "execution_count": 270,
   "metadata": {},
   "outputs": [],
   "source": [
    "encode_grp_test = date_processing(encode_grp_test)"
   ]
  },
  {
   "cell_type": "code",
   "execution_count": 271,
   "metadata": {},
   "outputs": [],
   "source": [
    "feather.write_dataframe(encode_grp_train, 'data/encode_grp_train.feather')"
   ]
  },
  {
   "cell_type": "code",
   "execution_count": 272,
   "metadata": {},
   "outputs": [],
   "source": [
    "feather.write_dataframe(encode_grp_test, 'data/encode_grp_test.feather')"
   ]
  },
  {
   "cell_type": "code",
   "execution_count": null,
   "metadata": {},
   "outputs": [],
   "source": []
  }
 ],
 "metadata": {
  "kernelspec": {
   "display_name": "Python 3",
   "language": "python",
   "name": "python3"
  },
  "language_info": {
   "codemirror_mode": {
    "name": "ipython",
    "version": 3
   },
   "file_extension": ".py",
   "mimetype": "text/x-python",
   "name": "python",
   "nbconvert_exporter": "python",
   "pygments_lexer": "ipython3",
   "version": "3.7.4"
  }
 },
 "nbformat": 4,
 "nbformat_minor": 4
}
