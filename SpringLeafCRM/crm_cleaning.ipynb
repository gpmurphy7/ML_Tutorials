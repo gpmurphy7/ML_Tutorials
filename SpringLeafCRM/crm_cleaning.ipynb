{
 "cells": [
  {
   "cell_type": "code",
   "execution_count": 1,
   "metadata": {},
   "outputs": [],
   "source": [
    "import numpy as np\n",
    "import pandas as pd\n",
    "import feather"
   ]
  },
  {
   "cell_type": "code",
   "execution_count": 2,
   "metadata": {},
   "outputs": [
    {
     "name": "stderr",
     "output_type": "stream",
     "text": [
      "C:\\ProgramData\\Anaconda3\\lib\\site-packages\\IPython\\core\\interactiveshell.py:3058: DtypeWarning: Columns (8,9,10,11,12,43,157,196,214,225,228,229,231,235,238) have mixed types. Specify dtype option on import or set low_memory=False.\n",
      "  interactivity=interactivity, compiler=compiler, result=result)\n"
     ]
    }
   ],
   "source": [
    "raw_train = pd.read_csv('data/train.csv.zip' ,compression = 'zip')"
   ]
  },
  {
   "cell_type": "code",
   "execution_count": 3,
   "metadata": {},
   "outputs": [
    {
     "data": {
      "text/html": [
       "<div>\n",
       "<style scoped>\n",
       "    .dataframe tbody tr th:only-of-type {\n",
       "        vertical-align: middle;\n",
       "    }\n",
       "\n",
       "    .dataframe tbody tr th {\n",
       "        vertical-align: top;\n",
       "    }\n",
       "\n",
       "    .dataframe thead th {\n",
       "        text-align: right;\n",
       "    }\n",
       "</style>\n",
       "<table border=\"1\" class=\"dataframe\">\n",
       "  <thead>\n",
       "    <tr style=\"text-align: right;\">\n",
       "      <th></th>\n",
       "      <th>ID</th>\n",
       "      <th>VAR_0001</th>\n",
       "      <th>VAR_0002</th>\n",
       "      <th>VAR_0003</th>\n",
       "      <th>VAR_0004</th>\n",
       "      <th>VAR_0005</th>\n",
       "      <th>VAR_0006</th>\n",
       "      <th>VAR_0007</th>\n",
       "      <th>VAR_0008</th>\n",
       "      <th>VAR_0009</th>\n",
       "      <th>...</th>\n",
       "      <th>VAR_1926</th>\n",
       "      <th>VAR_1927</th>\n",
       "      <th>VAR_1928</th>\n",
       "      <th>VAR_1929</th>\n",
       "      <th>VAR_1930</th>\n",
       "      <th>VAR_1931</th>\n",
       "      <th>VAR_1932</th>\n",
       "      <th>VAR_1933</th>\n",
       "      <th>VAR_1934</th>\n",
       "      <th>target</th>\n",
       "    </tr>\n",
       "  </thead>\n",
       "  <tbody>\n",
       "    <tr>\n",
       "      <td>0</td>\n",
       "      <td>2</td>\n",
       "      <td>H</td>\n",
       "      <td>224</td>\n",
       "      <td>0</td>\n",
       "      <td>4300</td>\n",
       "      <td>C</td>\n",
       "      <td>0.0</td>\n",
       "      <td>0.0</td>\n",
       "      <td>False</td>\n",
       "      <td>False</td>\n",
       "      <td>...</td>\n",
       "      <td>98</td>\n",
       "      <td>98</td>\n",
       "      <td>998</td>\n",
       "      <td>999999998</td>\n",
       "      <td>998</td>\n",
       "      <td>998</td>\n",
       "      <td>9998</td>\n",
       "      <td>9998</td>\n",
       "      <td>IAPS</td>\n",
       "      <td>0</td>\n",
       "    </tr>\n",
       "    <tr>\n",
       "      <td>1</td>\n",
       "      <td>4</td>\n",
       "      <td>H</td>\n",
       "      <td>7</td>\n",
       "      <td>53</td>\n",
       "      <td>4448</td>\n",
       "      <td>B</td>\n",
       "      <td>1.0</td>\n",
       "      <td>0.0</td>\n",
       "      <td>False</td>\n",
       "      <td>False</td>\n",
       "      <td>...</td>\n",
       "      <td>98</td>\n",
       "      <td>98</td>\n",
       "      <td>998</td>\n",
       "      <td>999999998</td>\n",
       "      <td>998</td>\n",
       "      <td>998</td>\n",
       "      <td>9998</td>\n",
       "      <td>9998</td>\n",
       "      <td>IAPS</td>\n",
       "      <td>0</td>\n",
       "    </tr>\n",
       "    <tr>\n",
       "      <td>2</td>\n",
       "      <td>5</td>\n",
       "      <td>H</td>\n",
       "      <td>116</td>\n",
       "      <td>3</td>\n",
       "      <td>3464</td>\n",
       "      <td>C</td>\n",
       "      <td>0.0</td>\n",
       "      <td>0.0</td>\n",
       "      <td>False</td>\n",
       "      <td>False</td>\n",
       "      <td>...</td>\n",
       "      <td>98</td>\n",
       "      <td>98</td>\n",
       "      <td>998</td>\n",
       "      <td>999999998</td>\n",
       "      <td>998</td>\n",
       "      <td>998</td>\n",
       "      <td>9998</td>\n",
       "      <td>9998</td>\n",
       "      <td>IAPS</td>\n",
       "      <td>0</td>\n",
       "    </tr>\n",
       "    <tr>\n",
       "      <td>3</td>\n",
       "      <td>7</td>\n",
       "      <td>H</td>\n",
       "      <td>240</td>\n",
       "      <td>300</td>\n",
       "      <td>3200</td>\n",
       "      <td>C</td>\n",
       "      <td>0.0</td>\n",
       "      <td>0.0</td>\n",
       "      <td>False</td>\n",
       "      <td>False</td>\n",
       "      <td>...</td>\n",
       "      <td>98</td>\n",
       "      <td>98</td>\n",
       "      <td>998</td>\n",
       "      <td>999999998</td>\n",
       "      <td>998</td>\n",
       "      <td>998</td>\n",
       "      <td>9998</td>\n",
       "      <td>9998</td>\n",
       "      <td>RCC</td>\n",
       "      <td>0</td>\n",
       "    </tr>\n",
       "    <tr>\n",
       "      <td>4</td>\n",
       "      <td>8</td>\n",
       "      <td>R</td>\n",
       "      <td>72</td>\n",
       "      <td>261</td>\n",
       "      <td>2000</td>\n",
       "      <td>N</td>\n",
       "      <td>0.0</td>\n",
       "      <td>0.0</td>\n",
       "      <td>False</td>\n",
       "      <td>False</td>\n",
       "      <td>...</td>\n",
       "      <td>98</td>\n",
       "      <td>98</td>\n",
       "      <td>998</td>\n",
       "      <td>999999998</td>\n",
       "      <td>998</td>\n",
       "      <td>998</td>\n",
       "      <td>9998</td>\n",
       "      <td>9998</td>\n",
       "      <td>BRANCH</td>\n",
       "      <td>1</td>\n",
       "    </tr>\n",
       "  </tbody>\n",
       "</table>\n",
       "<p>5 rows × 1934 columns</p>\n",
       "</div>"
      ],
      "text/plain": [
       "   ID VAR_0001  VAR_0002  VAR_0003  VAR_0004 VAR_0005  VAR_0006  VAR_0007  \\\n",
       "0   2        H       224         0      4300        C       0.0       0.0   \n",
       "1   4        H         7        53      4448        B       1.0       0.0   \n",
       "2   5        H       116         3      3464        C       0.0       0.0   \n",
       "3   7        H       240       300      3200        C       0.0       0.0   \n",
       "4   8        R        72       261      2000        N       0.0       0.0   \n",
       "\n",
       "  VAR_0008 VAR_0009  ... VAR_1926 VAR_1927 VAR_1928   VAR_1929  VAR_1930  \\\n",
       "0    False    False  ...       98       98      998  999999998       998   \n",
       "1    False    False  ...       98       98      998  999999998       998   \n",
       "2    False    False  ...       98       98      998  999999998       998   \n",
       "3    False    False  ...       98       98      998  999999998       998   \n",
       "4    False    False  ...       98       98      998  999999998       998   \n",
       "\n",
       "   VAR_1931  VAR_1932  VAR_1933  VAR_1934  target  \n",
       "0       998      9998      9998      IAPS       0  \n",
       "1       998      9998      9998      IAPS       0  \n",
       "2       998      9998      9998      IAPS       0  \n",
       "3       998      9998      9998       RCC       0  \n",
       "4       998      9998      9998    BRANCH       1  \n",
       "\n",
       "[5 rows x 1934 columns]"
      ]
     },
     "execution_count": 3,
     "metadata": {},
     "output_type": "execute_result"
    }
   ],
   "source": [
    "raw_train.head()"
   ]
  },
  {
   "cell_type": "code",
   "execution_count": 4,
   "metadata": {},
   "outputs": [
    {
     "data": {
      "text/plain": [
       "145231"
      ]
     },
     "execution_count": 4,
     "metadata": {},
     "output_type": "execute_result"
    }
   ],
   "source": [
    "len(raw_train)"
   ]
  },
  {
   "cell_type": "code",
   "execution_count": 5,
   "metadata": {},
   "outputs": [
    {
     "data": {
      "text/html": [
       "<div>\n",
       "<style scoped>\n",
       "    .dataframe tbody tr th:only-of-type {\n",
       "        vertical-align: middle;\n",
       "    }\n",
       "\n",
       "    .dataframe tbody tr th {\n",
       "        vertical-align: top;\n",
       "    }\n",
       "\n",
       "    .dataframe thead th {\n",
       "        text-align: right;\n",
       "    }\n",
       "</style>\n",
       "<table border=\"1\" class=\"dataframe\">\n",
       "  <thead>\n",
       "    <tr style=\"text-align: right;\">\n",
       "      <th></th>\n",
       "      <th>ID</th>\n",
       "      <th>VAR_0002</th>\n",
       "      <th>VAR_0003</th>\n",
       "      <th>VAR_0004</th>\n",
       "      <th>VAR_0006</th>\n",
       "      <th>VAR_0007</th>\n",
       "      <th>VAR_0013</th>\n",
       "      <th>VAR_0014</th>\n",
       "      <th>VAR_0015</th>\n",
       "      <th>VAR_0016</th>\n",
       "      <th>...</th>\n",
       "      <th>VAR_1925</th>\n",
       "      <th>VAR_1926</th>\n",
       "      <th>VAR_1927</th>\n",
       "      <th>VAR_1928</th>\n",
       "      <th>VAR_1929</th>\n",
       "      <th>VAR_1930</th>\n",
       "      <th>VAR_1931</th>\n",
       "      <th>VAR_1932</th>\n",
       "      <th>VAR_1933</th>\n",
       "      <th>target</th>\n",
       "    </tr>\n",
       "  </thead>\n",
       "  <tbody>\n",
       "    <tr>\n",
       "      <td>count</td>\n",
       "      <td>145231.000000</td>\n",
       "      <td>145231.000000</td>\n",
       "      <td>145231.000000</td>\n",
       "      <td>1.452310e+05</td>\n",
       "      <td>145175.000000</td>\n",
       "      <td>145175.00000</td>\n",
       "      <td>145175.000000</td>\n",
       "      <td>145175.000000</td>\n",
       "      <td>145175.000000</td>\n",
       "      <td>145175.000000</td>\n",
       "      <td>...</td>\n",
       "      <td>145231.000000</td>\n",
       "      <td>145231.000000</td>\n",
       "      <td>145231.000000</td>\n",
       "      <td>145231.000000</td>\n",
       "      <td>1.452310e+05</td>\n",
       "      <td>145231.000000</td>\n",
       "      <td>145231.000000</td>\n",
       "      <td>145231.000000</td>\n",
       "      <td>145231.000000</td>\n",
       "      <td>145231.000000</td>\n",
       "    </tr>\n",
       "    <tr>\n",
       "      <td>mean</td>\n",
       "      <td>145124.981808</td>\n",
       "      <td>105.278040</td>\n",
       "      <td>88.492285</td>\n",
       "      <td>3.721946e+03</td>\n",
       "      <td>0.693907</td>\n",
       "      <td>0.51316</td>\n",
       "      <td>0.693907</td>\n",
       "      <td>0.494493</td>\n",
       "      <td>0.476763</td>\n",
       "      <td>1.447598</td>\n",
       "      <td>...</td>\n",
       "      <td>0.549965</td>\n",
       "      <td>86.664369</td>\n",
       "      <td>89.828762</td>\n",
       "      <td>914.417259</td>\n",
       "      <td>9.904497e+08</td>\n",
       "      <td>922.938505</td>\n",
       "      <td>936.487905</td>\n",
       "      <td>9942.162279</td>\n",
       "      <td>8849.839111</td>\n",
       "      <td>0.232547</td>\n",
       "    </tr>\n",
       "    <tr>\n",
       "      <td>std</td>\n",
       "      <td>83890.290627</td>\n",
       "      <td>143.351237</td>\n",
       "      <td>125.903323</td>\n",
       "      <td>1.228001e+04</td>\n",
       "      <td>1.604578</td>\n",
       "      <td>1.17531</td>\n",
       "      <td>1.604578</td>\n",
       "      <td>1.115085</td>\n",
       "      <td>1.000755</td>\n",
       "      <td>1.132784</td>\n",
       "      <td>...</td>\n",
       "      <td>6.361312</td>\n",
       "      <td>31.347700</td>\n",
       "      <td>26.928221</td>\n",
       "      <td>276.361514</td>\n",
       "      <td>9.725818e+07</td>\n",
       "      <td>212.087416</td>\n",
       "      <td>210.370833</td>\n",
       "      <td>743.153332</td>\n",
       "      <td>3175.797333</td>\n",
       "      <td>0.422457</td>\n",
       "    </tr>\n",
       "    <tr>\n",
       "      <td>min</td>\n",
       "      <td>2.000000</td>\n",
       "      <td>0.000000</td>\n",
       "      <td>0.000000</td>\n",
       "      <td>0.000000e+00</td>\n",
       "      <td>0.000000</td>\n",
       "      <td>0.00000</td>\n",
       "      <td>0.000000</td>\n",
       "      <td>0.000000</td>\n",
       "      <td>0.000000</td>\n",
       "      <td>0.000000</td>\n",
       "      <td>...</td>\n",
       "      <td>0.000000</td>\n",
       "      <td>0.000000</td>\n",
       "      <td>0.000000</td>\n",
       "      <td>0.000000</td>\n",
       "      <td>0.000000e+00</td>\n",
       "      <td>1.000000</td>\n",
       "      <td>0.000000</td>\n",
       "      <td>0.000000</td>\n",
       "      <td>0.000000</td>\n",
       "      <td>0.000000</td>\n",
       "    </tr>\n",
       "    <tr>\n",
       "      <td>25%</td>\n",
       "      <td>72342.500000</td>\n",
       "      <td>24.000000</td>\n",
       "      <td>13.000000</td>\n",
       "      <td>1.790000e+03</td>\n",
       "      <td>0.000000</td>\n",
       "      <td>0.00000</td>\n",
       "      <td>0.000000</td>\n",
       "      <td>0.000000</td>\n",
       "      <td>0.000000</td>\n",
       "      <td>1.000000</td>\n",
       "      <td>...</td>\n",
       "      <td>0.000000</td>\n",
       "      <td>98.000000</td>\n",
       "      <td>98.000000</td>\n",
       "      <td>998.000000</td>\n",
       "      <td>1.000000e+09</td>\n",
       "      <td>998.000000</td>\n",
       "      <td>998.000000</td>\n",
       "      <td>9998.000000</td>\n",
       "      <td>9998.000000</td>\n",
       "      <td>0.000000</td>\n",
       "    </tr>\n",
       "    <tr>\n",
       "      <td>50%</td>\n",
       "      <td>145272.000000</td>\n",
       "      <td>60.000000</td>\n",
       "      <td>55.000000</td>\n",
       "      <td>2.500000e+03</td>\n",
       "      <td>0.000000</td>\n",
       "      <td>0.00000</td>\n",
       "      <td>0.000000</td>\n",
       "      <td>0.000000</td>\n",
       "      <td>0.000000</td>\n",
       "      <td>1.000000</td>\n",
       "      <td>...</td>\n",
       "      <td>0.000000</td>\n",
       "      <td>98.000000</td>\n",
       "      <td>98.000000</td>\n",
       "      <td>998.000000</td>\n",
       "      <td>1.000000e+09</td>\n",
       "      <td>998.000000</td>\n",
       "      <td>998.000000</td>\n",
       "      <td>9998.000000</td>\n",
       "      <td>9998.000000</td>\n",
       "      <td>0.000000</td>\n",
       "    </tr>\n",
       "    <tr>\n",
       "      <td>75%</td>\n",
       "      <td>217686.500000</td>\n",
       "      <td>132.000000</td>\n",
       "      <td>120.000000</td>\n",
       "      <td>3.600000e+03</td>\n",
       "      <td>1.000000</td>\n",
       "      <td>1.00000</td>\n",
       "      <td>1.000000</td>\n",
       "      <td>1.000000</td>\n",
       "      <td>1.000000</td>\n",
       "      <td>1.000000</td>\n",
       "      <td>...</td>\n",
       "      <td>0.000000</td>\n",
       "      <td>98.000000</td>\n",
       "      <td>98.000000</td>\n",
       "      <td>998.000000</td>\n",
       "      <td>1.000000e+09</td>\n",
       "      <td>998.000000</td>\n",
       "      <td>998.000000</td>\n",
       "      <td>9998.000000</td>\n",
       "      <td>9998.000000</td>\n",
       "      <td>0.000000</td>\n",
       "    </tr>\n",
       "    <tr>\n",
       "      <td>max</td>\n",
       "      <td>290463.000000</td>\n",
       "      <td>999.000000</td>\n",
       "      <td>999.000000</td>\n",
       "      <td>2.200000e+06</td>\n",
       "      <td>68.000000</td>\n",
       "      <td>66.00000</td>\n",
       "      <td>68.000000</td>\n",
       "      <td>67.000000</td>\n",
       "      <td>35.000000</td>\n",
       "      <td>39.000000</td>\n",
       "      <td>...</td>\n",
       "      <td>99.000000</td>\n",
       "      <td>99.000000</td>\n",
       "      <td>99.000000</td>\n",
       "      <td>999.000000</td>\n",
       "      <td>1.000000e+09</td>\n",
       "      <td>999.000000</td>\n",
       "      <td>999.000000</td>\n",
       "      <td>9999.000000</td>\n",
       "      <td>9999.000000</td>\n",
       "      <td>1.000000</td>\n",
       "    </tr>\n",
       "  </tbody>\n",
       "</table>\n",
       "<p>8 rows × 1883 columns</p>\n",
       "</div>"
      ],
      "text/plain": [
       "                  ID       VAR_0002       VAR_0003      VAR_0004  \\\n",
       "count  145231.000000  145231.000000  145231.000000  1.452310e+05   \n",
       "mean   145124.981808     105.278040      88.492285  3.721946e+03   \n",
       "std     83890.290627     143.351237     125.903323  1.228001e+04   \n",
       "min         2.000000       0.000000       0.000000  0.000000e+00   \n",
       "25%     72342.500000      24.000000      13.000000  1.790000e+03   \n",
       "50%    145272.000000      60.000000      55.000000  2.500000e+03   \n",
       "75%    217686.500000     132.000000     120.000000  3.600000e+03   \n",
       "max    290463.000000     999.000000     999.000000  2.200000e+06   \n",
       "\n",
       "            VAR_0006      VAR_0007       VAR_0013       VAR_0014  \\\n",
       "count  145175.000000  145175.00000  145175.000000  145175.000000   \n",
       "mean        0.693907       0.51316       0.693907       0.494493   \n",
       "std         1.604578       1.17531       1.604578       1.115085   \n",
       "min         0.000000       0.00000       0.000000       0.000000   \n",
       "25%         0.000000       0.00000       0.000000       0.000000   \n",
       "50%         0.000000       0.00000       0.000000       0.000000   \n",
       "75%         1.000000       1.00000       1.000000       1.000000   \n",
       "max        68.000000      66.00000      68.000000      67.000000   \n",
       "\n",
       "            VAR_0015       VAR_0016  ...       VAR_1925       VAR_1926  \\\n",
       "count  145175.000000  145175.000000  ...  145231.000000  145231.000000   \n",
       "mean        0.476763       1.447598  ...       0.549965      86.664369   \n",
       "std         1.000755       1.132784  ...       6.361312      31.347700   \n",
       "min         0.000000       0.000000  ...       0.000000       0.000000   \n",
       "25%         0.000000       1.000000  ...       0.000000      98.000000   \n",
       "50%         0.000000       1.000000  ...       0.000000      98.000000   \n",
       "75%         1.000000       1.000000  ...       0.000000      98.000000   \n",
       "max        35.000000      39.000000  ...      99.000000      99.000000   \n",
       "\n",
       "            VAR_1927       VAR_1928      VAR_1929       VAR_1930  \\\n",
       "count  145231.000000  145231.000000  1.452310e+05  145231.000000   \n",
       "mean       89.828762     914.417259  9.904497e+08     922.938505   \n",
       "std        26.928221     276.361514  9.725818e+07     212.087416   \n",
       "min         0.000000       0.000000  0.000000e+00       1.000000   \n",
       "25%        98.000000     998.000000  1.000000e+09     998.000000   \n",
       "50%        98.000000     998.000000  1.000000e+09     998.000000   \n",
       "75%        98.000000     998.000000  1.000000e+09     998.000000   \n",
       "max        99.000000     999.000000  1.000000e+09     999.000000   \n",
       "\n",
       "            VAR_1931       VAR_1932       VAR_1933         target  \n",
       "count  145231.000000  145231.000000  145231.000000  145231.000000  \n",
       "mean      936.487905    9942.162279    8849.839111       0.232547  \n",
       "std       210.370833     743.153332    3175.797333       0.422457  \n",
       "min         0.000000       0.000000       0.000000       0.000000  \n",
       "25%       998.000000    9998.000000    9998.000000       0.000000  \n",
       "50%       998.000000    9998.000000    9998.000000       0.000000  \n",
       "75%       998.000000    9998.000000    9998.000000       0.000000  \n",
       "max       999.000000    9999.000000    9999.000000       1.000000  \n",
       "\n",
       "[8 rows x 1883 columns]"
      ]
     },
     "execution_count": 5,
     "metadata": {},
     "output_type": "execute_result"
    }
   ],
   "source": [
    "raw_train.describe()"
   ]
  },
  {
   "cell_type": "code",
   "execution_count": 6,
   "metadata": {},
   "outputs": [],
   "source": [
    "const_cols = [col for col in raw_train.columns if raw_train[col].nunique() == 1]"
   ]
  },
  {
   "cell_type": "code",
   "execution_count": 7,
   "metadata": {},
   "outputs": [],
   "source": [
    "clean_train = raw_train.drop(const_cols, axis = 1)"
   ]
  },
  {
   "cell_type": "code",
   "execution_count": 8,
   "metadata": {},
   "outputs": [],
   "source": [
    "null_cols = [col for col in clean_train.columns if clean_train[col].isnull().sum()/len(clean_train) > 0]"
   ]
  },
  {
   "cell_type": "code",
   "execution_count": 9,
   "metadata": {},
   "outputs": [],
   "source": [
    "object_cols = clean_train.select_dtypes(include = 'object').columns.tolist()"
   ]
  },
  {
   "cell_type": "code",
   "execution_count": 10,
   "metadata": {},
   "outputs": [],
   "source": [
    "object_nulls = list(set(null_cols).intersection(set(object_cols)))"
   ]
  },
  {
   "cell_type": "code",
   "execution_count": 11,
   "metadata": {},
   "outputs": [],
   "source": [
    "numeric_nulls = list(set(null_cols).intersection(set(clean_train.select_dtypes(include = 'number').columns.tolist())))"
   ]
  },
  {
   "cell_type": "code",
   "execution_count": 12,
   "metadata": {},
   "outputs": [],
   "source": [
    "for col in numeric_nulls:\n",
    "    clean_train[col+'_null_flag'] = np.where(clean_train[col].isnull(),1,0)\n",
    "    clean_train[col].fillna(clean_train[col].mean(), inplace = True)"
   ]
  },
  {
   "cell_type": "code",
   "execution_count": 13,
   "metadata": {},
   "outputs": [],
   "source": [
    "for col in object_nulls:\n",
    "    clean_train[col+'_null_flag'] = np.where(clean_train[col].isnull(),1,0)\n",
    "    clean_train[col].fillna(clean_train[col].value_counts().idxmax(), inplace = True)"
   ]
  },
  {
   "cell_type": "code",
   "execution_count": 14,
   "metadata": {},
   "outputs": [
    {
     "name": "stdout",
     "output_type": "stream",
     "text": [
      "VAR_0001 R\n",
      "VAR_0005 B\n",
      "VAR_0073 13MAR09:00:00:00\n",
      "VAR_0075 22SEP10:00:00:00\n",
      "VAR_0156 12DEC11:00:00:00\n",
      "VAR_0157 27JUL12:00:00:00\n",
      "VAR_0158 01FEB12:00:00:00\n",
      "VAR_0159 04JUN12:00:00:00\n",
      "VAR_0166 19DEC11:00:00:00\n",
      "VAR_0167 03NOV11:00:00:00\n",
      "VAR_0168 03NOV11:00:00:00\n",
      "VAR_0169 19DEC11:00:00:00\n",
      "VAR_0176 19DEC11:00:00:00\n",
      "VAR_0177 03NOV11:00:00:00\n",
      "VAR_0178 03NOV11:00:00:00\n",
      "VAR_0179 04JUN12:00:00:00\n",
      "VAR_0200 CHICAGO\n",
      "VAR_0204 31JAN14:15:54:00\n",
      "VAR_0214 HRE-Social Security Number-1747\n",
      "VAR_0217 06DEC11:02:00:00\n",
      "VAR_0226 False\n",
      "VAR_0230 False\n",
      "VAR_0232 True\n",
      "VAR_0236 True\n",
      "VAR_0237 CA\n",
      "VAR_0274 CA\n",
      "VAR_0283 S\n",
      "VAR_0305 S\n",
      "VAR_0325 S\n",
      "VAR_0342 -1\n",
      "VAR_0352 U\n",
      "VAR_0353 U\n",
      "VAR_0354 U\n",
      "VAR_0404 -1\n",
      "VAR_0466 -1\n",
      "VAR_0467 -1\n",
      "VAR_0493 -1\n",
      "VAR_1934 IAPS\n"
     ]
    }
   ],
   "source": [
    "for col in object_cols:\n",
    "    print(col, clean_train[col].value_counts().idxmax())"
   ]
  },
  {
   "cell_type": "code",
   "execution_count": 15,
   "metadata": {},
   "outputs": [],
   "source": [
    "date_cols = ['VAR_0073', 'VAR_0075', 'VAR_0156', 'VAR_0157', 'VAR_0158', 'VAR_0159', 'VAR_0166', 'VAR_0167', 'VAR_0168', 'VAR_0169', 'VAR_0176'\n",
    "            ,'VAR_0177', 'VAR_0178', 'VAR_0179', 'VAR_0204', 'VAR_0217']"
   ]
  },
  {
   "cell_type": "code",
   "execution_count": 16,
   "metadata": {},
   "outputs": [],
   "source": [
    "for col in date_cols:\n",
    "    clean_train[col] = pd.to_datetime(clean_train[col], format = '%d%b%y:%X')\n",
    "    clean_train[col+'_weekday'] = clean_train[col].dt.weekday\n",
    "    clean_train[col+\"_day\"] = clean_train[col].dt.day \n",
    "    clean_train[col+\"_month\"] = clean_train[col].dt.month\n",
    "    clean_train[col+\"_year\"] = clean_train[col].dt.year"
   ]
  },
  {
   "cell_type": "code",
   "execution_count": 17,
   "metadata": {},
   "outputs": [],
   "source": [
    "clean_train.drop(date_cols, axis = 1, inplace = True)"
   ]
  },
  {
   "cell_type": "code",
   "execution_count": 18,
   "metadata": {},
   "outputs": [],
   "source": [
    "remaining_nulls = [col for col in clean_train.columns if clean_train[col].isnull().sum()>0]"
   ]
  },
  {
   "cell_type": "code",
   "execution_count": 19,
   "metadata": {},
   "outputs": [
    {
     "data": {
      "text/plain": [
       "['VAR_0207', 'VAR_0213', 'VAR_0840']"
      ]
     },
     "execution_count": 19,
     "metadata": {},
     "output_type": "execute_result"
    }
   ],
   "source": [
    "remaining_nulls"
   ]
  },
  {
   "cell_type": "code",
   "execution_count": 20,
   "metadata": {},
   "outputs": [],
   "source": [
    "clean_train.drop(remaining_nulls, axis = 1, inplace = True)"
   ]
  },
  {
   "cell_type": "code",
   "execution_count": 21,
   "metadata": {},
   "outputs": [
    {
     "name": "stderr",
     "output_type": "stream",
     "text": [
      "C:\\ProgramData\\Anaconda3\\lib\\site-packages\\IPython\\core\\interactiveshell.py:3058: DtypeWarning: Columns (8,9,10,11,12,43,157,167,177,196,214,225,228,229,231,235,238) have mixed types. Specify dtype option on import or set low_memory=False.\n",
      "  interactivity=interactivity, compiler=compiler, result=result)\n"
     ]
    }
   ],
   "source": [
    "raw_test = pd.read_csv('data/test.csv.zip' ,compression = 'zip')"
   ]
  },
  {
   "cell_type": "code",
   "execution_count": 22,
   "metadata": {},
   "outputs": [
    {
     "data": {
      "text/plain": [
       "51"
      ]
     },
     "execution_count": 22,
     "metadata": {},
     "output_type": "execute_result"
    }
   ],
   "source": [
    "len(const_cols)"
   ]
  },
  {
   "cell_type": "code",
   "execution_count": 23,
   "metadata": {},
   "outputs": [],
   "source": [
    "const_cols_test = [col for col in raw_test.columns if raw_test[col].nunique() == 1]"
   ]
  },
  {
   "cell_type": "code",
   "execution_count": 24,
   "metadata": {},
   "outputs": [
    {
     "data": {
      "text/plain": [
       "['VAR_0526', 'VAR_0529']"
      ]
     },
     "execution_count": 24,
     "metadata": {},
     "output_type": "execute_result"
    }
   ],
   "source": [
    "[col for col in const_cols_test if col not in const_cols]"
   ]
  },
  {
   "cell_type": "code",
   "execution_count": 25,
   "metadata": {},
   "outputs": [
    {
     "data": {
      "text/plain": [
       "0.0    144313\n",
       "1.0         1\n",
       "Name: VAR_0526, dtype: int64"
      ]
     },
     "execution_count": 25,
     "metadata": {},
     "output_type": "execute_result"
    }
   ],
   "source": [
    "raw_train['VAR_0526'].value_counts()"
   ]
  },
  {
   "cell_type": "code",
   "execution_count": 26,
   "metadata": {},
   "outputs": [
    {
     "data": {
      "text/plain": [
       "0.0    144323\n",
       "Name: VAR_0526, dtype: int64"
      ]
     },
     "execution_count": 26,
     "metadata": {},
     "output_type": "execute_result"
    }
   ],
   "source": [
    "raw_test['VAR_0526'].value_counts()"
   ]
  },
  {
   "cell_type": "code",
   "execution_count": 27,
   "metadata": {},
   "outputs": [
    {
     "data": {
      "text/plain": [
       "0.0    144313\n",
       "1.0         1\n",
       "Name: VAR_0529, dtype: int64"
      ]
     },
     "execution_count": 27,
     "metadata": {},
     "output_type": "execute_result"
    }
   ],
   "source": [
    "raw_train['VAR_0529'].value_counts()"
   ]
  },
  {
   "cell_type": "code",
   "execution_count": 28,
   "metadata": {},
   "outputs": [
    {
     "data": {
      "text/plain": [
       "0.0    144323\n",
       "Name: VAR_0529, dtype: int64"
      ]
     },
     "execution_count": 28,
     "metadata": {},
     "output_type": "execute_result"
    }
   ],
   "source": [
    "raw_test['VAR_0529'].value_counts()"
   ]
  },
  {
   "cell_type": "code",
   "execution_count": 29,
   "metadata": {},
   "outputs": [],
   "source": [
    "clean_test = raw_test.drop(const_cols, axis = 1)"
   ]
  },
  {
   "cell_type": "code",
   "execution_count": 30,
   "metadata": {},
   "outputs": [],
   "source": [
    "null_cols_test = [col for col in clean_test.columns if clean_test[col].isnull().sum()/len(clean_test) > 0]"
   ]
  },
  {
   "cell_type": "code",
   "execution_count": 31,
   "metadata": {},
   "outputs": [
    {
     "data": {
      "text/plain": [
       "[]"
      ]
     },
     "execution_count": 31,
     "metadata": {},
     "output_type": "execute_result"
    }
   ],
   "source": [
    "[col for col in null_cols_test if col not in null_cols]"
   ]
  },
  {
   "cell_type": "code",
   "execution_count": 32,
   "metadata": {},
   "outputs": [],
   "source": [
    "object_cols_test = clean_test.select_dtypes(include = 'object').columns.tolist()"
   ]
  },
  {
   "cell_type": "code",
   "execution_count": 33,
   "metadata": {},
   "outputs": [
    {
     "data": {
      "text/plain": [
       "[]"
      ]
     },
     "execution_count": 33,
     "metadata": {},
     "output_type": "execute_result"
    }
   ],
   "source": [
    "[col for col in object_cols_test if col not in object_cols]"
   ]
  },
  {
   "cell_type": "code",
   "execution_count": 34,
   "metadata": {},
   "outputs": [],
   "source": [
    "object_nulls_test = list(set(null_cols_test).intersection(set(object_cols_test)))"
   ]
  },
  {
   "cell_type": "code",
   "execution_count": 35,
   "metadata": {},
   "outputs": [
    {
     "data": {
      "text/plain": [
       "[]"
      ]
     },
     "execution_count": 35,
     "metadata": {},
     "output_type": "execute_result"
    }
   ],
   "source": [
    "[col for col in object_nulls_test if col not in object_nulls]"
   ]
  },
  {
   "cell_type": "code",
   "execution_count": 36,
   "metadata": {},
   "outputs": [],
   "source": [
    "numeric_nulls_test = list(set(null_cols_test).intersection(set(clean_test.select_dtypes(include = 'number').columns.tolist())))"
   ]
  },
  {
   "cell_type": "code",
   "execution_count": 37,
   "metadata": {},
   "outputs": [
    {
     "data": {
      "text/plain": [
       "[]"
      ]
     },
     "execution_count": 37,
     "metadata": {},
     "output_type": "execute_result"
    }
   ],
   "source": [
    "[col for col in numeric_nulls_test if col not in numeric_nulls]"
   ]
  },
  {
   "cell_type": "code",
   "execution_count": 38,
   "metadata": {},
   "outputs": [],
   "source": [
    "for col in numeric_nulls_test:\n",
    "    clean_test[col+'_null_flag'] = np.where(clean_test[col].isnull(),1,0)\n",
    "    clean_test[col].fillna(clean_test[col].mean(), inplace = True)"
   ]
  },
  {
   "cell_type": "code",
   "execution_count": 39,
   "metadata": {},
   "outputs": [],
   "source": [
    "for col in object_nulls_test:\n",
    "    clean_test[col+'_null_flag'] = np.where(clean_test[col].isnull(),1,0)\n",
    "    clean_test[col].fillna(clean_test[col].value_counts().idxmax(), inplace = True)"
   ]
  },
  {
   "cell_type": "code",
   "execution_count": 40,
   "metadata": {},
   "outputs": [],
   "source": [
    "for col in date_cols:\n",
    "    clean_test[col] = pd.to_datetime(clean_test[col], format = '%d%b%y:%X')\n",
    "    clean_test[col+'_weekday'] = clean_test[col].dt.weekday\n",
    "    clean_test[col+\"_day\"] = clean_test[col].dt.day \n",
    "    clean_test[col+\"_month\"] = clean_test[col].dt.month\n",
    "    clean_test[col+\"_year\"] = clean_test[col].dt.year"
   ]
  },
  {
   "cell_type": "code",
   "execution_count": 41,
   "metadata": {},
   "outputs": [],
   "source": [
    "clean_test.drop(date_cols, axis = 1, inplace = True)"
   ]
  },
  {
   "cell_type": "code",
   "execution_count": 42,
   "metadata": {},
   "outputs": [],
   "source": [
    "remaining_nulls_test = [col for col in clean_test.columns if clean_test[col].isnull().sum()>0]"
   ]
  },
  {
   "cell_type": "code",
   "execution_count": 43,
   "metadata": {},
   "outputs": [
    {
     "data": {
      "text/plain": [
       "['VAR_0207', 'VAR_0213', 'VAR_0840']"
      ]
     },
     "execution_count": 43,
     "metadata": {},
     "output_type": "execute_result"
    }
   ],
   "source": [
    "remaining_nulls_test"
   ]
  },
  {
   "cell_type": "code",
   "execution_count": 44,
   "metadata": {},
   "outputs": [],
   "source": [
    "clean_test.drop(remaining_nulls, axis = 1, inplace = True)"
   ]
  },
  {
   "cell_type": "code",
   "execution_count": 46,
   "metadata": {},
   "outputs": [
    {
     "data": {
      "text/plain": [
       "[]"
      ]
     },
     "execution_count": 46,
     "metadata": {},
     "output_type": "execute_result"
    }
   ],
   "source": [
    "[col for col in clean_test.columns.to_list() if col not in clean_train.columns.to_list()]"
   ]
  },
  {
   "cell_type": "code",
   "execution_count": 47,
   "metadata": {},
   "outputs": [],
   "source": [
    "feather.write_dataframe(clean_train, 'data/clean_train.feather')"
   ]
  },
  {
   "cell_type": "code",
   "execution_count": 48,
   "metadata": {},
   "outputs": [],
   "source": [
    "feather.write_dataframe(clean_test, 'data/clean_test.feather')"
   ]
  },
  {
   "cell_type": "code",
   "execution_count": null,
   "metadata": {},
   "outputs": [],
   "source": []
  }
 ],
 "metadata": {
  "kernelspec": {
   "display_name": "Python 3",
   "language": "python",
   "name": "python3"
  },
  "language_info": {
   "codemirror_mode": {
    "name": "ipython",
    "version": 3
   },
   "file_extension": ".py",
   "mimetype": "text/x-python",
   "name": "python",
   "nbconvert_exporter": "python",
   "pygments_lexer": "ipython3",
   "version": "3.7.4"
  }
 },
 "nbformat": 4,
 "nbformat_minor": 4
}
